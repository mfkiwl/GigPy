{
 "cells": [
  {
   "cell_type": "code",
   "execution_count": 18,
   "metadata": {},
   "outputs": [
    {
     "name": "stdout",
     "output_type": "stream",
     "text": [
      "366\n"
     ]
    }
   ],
   "source": [
    "from datetime import datetime\n",
    "\n",
    "def yyyymmdd2yyyyddd(date):\n",
    "    dt = datetime.strptime(date, \"%Y%m%d\") # get datetime object\n",
    "    day_of_year = (dt - datetime(dt.year, 1, 1))  # Jan the 1st is day 1\n",
    "    doy = day_of_year.days + 1\n",
    "    return doy\n",
    "\n",
    "print(yyyymmdd2yyyyddd('20161231'))\n"
   ]
  }
 ],
 "metadata": {
  "kernelspec": {
   "display_name": "Python 3",
   "language": "python",
   "name": "python3"
  },
  "language_info": {
   "codemirror_mode": {
    "name": "ipython",
    "version": 3
   },
   "file_extension": ".py",
   "mimetype": "text/x-python",
   "name": "python",
   "nbconvert_exporter": "python",
   "pygments_lexer": "ipython3",
   "version": "3.7.3"
  }
 },
 "nbformat": 4,
 "nbformat_minor": 2
}
